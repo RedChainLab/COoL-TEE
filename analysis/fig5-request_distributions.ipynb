{
 "cells": [
  {
   "cell_type": "code",
   "execution_count": null,
   "metadata": {},
   "outputs": [],
   "source": [
    "%load_ext autoreload\n",
    "%autoreload 2"
   ]
  },
  {
   "cell_type": "code",
   "execution_count": null,
   "metadata": {},
   "outputs": [],
   "source": [
    "OUTPUT_DIR=\"G:/data\"\n",
    "FIGS_DIR=\"G:/figs\""
   ]
  },
  {
   "cell_type": "code",
   "execution_count": null,
   "metadata": {},
   "outputs": [],
   "source": [
    "import numpy as np\n",
    "import pandas as pd\n",
    "import matplotlib.pyplot as plt\n",
    "\n",
    "import math\n",
    "\n",
    "pd.options.mode.chained_assignment = None  # default='warn'\n",
    "\n",
    "import sys"
   ]
  },
  {
   "cell_type": "code",
   "execution_count": null,
   "metadata": {},
   "outputs": [],
   "source": [
    "params = {'text.usetex' : True,\n",
    "          'font.size' : 10,\n",
    "            'font.family' : 'serif',\n",
    "            'font.serif' : 'Computer Modern Roman',\n",
    "          }\n",
    "plt.rcParams.update(params) "
   ]
  },
  {
   "cell_type": "code",
   "execution_count": null,
   "metadata": {},
   "outputs": [],
   "source": [
    "sys.path.insert(1, '../sim/market')\n",
    "import request_lifetimes as rl"
   ]
  },
  {
   "cell_type": "code",
   "execution_count": null,
   "metadata": {},
   "outputs": [],
   "source": [
    "TIME_INTERVAL=2400\n",
    "ASSET_RATE=100\n",
    "\n",
    "START=rl.Event.SEND\n",
    "END=rl.Event.RECV\n",
    "\n",
    "HORIZONTAL=True\n",
    "RELATIVE=True\n",
    "\n",
    "NB_POISSON_SAMPLES=1\n",
    "\n",
    "RQ_type=rl.RQ_types.All\n",
    "\n",
    "COLUMN=(\"DIFF\" if RELATIVE else END.name)\n",
    "INPUT_DIR=\"E:/wt\"\n",
    "EXP_DIR=\"wait500ByzRho100\"\n",
    "CONFIG_FILENAME=\"configs_8SP_wait500ByzRho100\"\n",
    "\n",
    "BEHAVIOURS={\"HON_CONS\":1,\"MAL_CONS\":1,\"HON_PROV\":1,\"MAL_PROV\":0}\n",
    "\n",
    "TIME_OFFSET=2250\n",
    "EXP_SPECS=[\n",
    "    [\n",
    "        \"WtA\",\n",
    "        f\"+{TIME_OFFSET}s\"\n",
    "    ],\n",
    "]\n",
    "\n",
    "RECOMPUTE=1"
   ]
  },
  {
   "cell_type": "code",
   "execution_count": null,
   "metadata": {},
   "outputs": [],
   "source": [
    "conditions_list=[\n",
    "        [    \n",
    "            [(\"hW\",\"0ms\"),(\"kErr\",\"0\"),(\"sHM\",\"0.5\"),(\"rho\",\"25\")],\n",
    "\n",
    "            [(\"hW\",\"0ms\"),(\"kErr\",\"0.00001*100\"),(\"sHM\",\"0.5\"),(\"rho\",\"25\")],\n",
    "        ],\n",
    "    ]"
   ]
  },
  {
   "cell_type": "code",
   "execution_count": null,
   "metadata": {},
   "outputs": [],
   "source": [
    "idx_cols=[\"MARKET_REPETITION\",\"REPETITION\",\"CONSUMER_BEHAVIOUR\",\"CONSUMER_ID\",\"PROVIDER_BEHAVIOUR\",\"PROVIDER_ID\",\"REQUEST_ID\"]\n",
    "cols=idx_cols+[\"SEND\",\"SERVE\",\"RECV\",\"FASTEST\"]\n",
    "\n",
    "values_per_key={}\n",
    "for i, exp_spec in enumerate(EXP_SPECS):\n",
    "    for conditions in conditions_list[i]:\n",
    "        for (k, v) in conditions:\n",
    "            if k not in values_per_key:\n",
    "                values_per_key[k]=set()\n",
    "            values_per_key[k].add(v)\n",
    "print(values_per_key)\n",
    "\n",
    "str_vals=';'.join([','.join(v).replace('*','x') for v in values_per_key.values()])\n",
    "str_specs=';'.join([','.join(v) for v in EXP_SPECS])\n",
    "\n",
    "plt.figure(figsize=(3.5,3))\n",
    "\n",
    "xstep=0.01\n",
    "ymax=0\n",
    "xmax=0\n",
    "BEGIN=\"SEND\"\n",
    "END=\"RECV\"\n",
    "colours=[\"cornflowerblue\",\"crimson\",]\n",
    "colour_idx=0\n",
    "for i, exp_spec in enumerate(EXP_SPECS):\n",
    "    distribs=pd.DataFrame()\n",
    "    for conditions in conditions_list[i]:\n",
    "        str_desc=\"-\".join([EXP_DIR,*exp_spec,*CONFIG_FILENAME.split(\"_\")[1:],\"nS=\"+str(NB_POISSON_SAMPLES),\"rS=\"+str(ASSET_RATE),\",\".join([a+\"=\"+b for a,b in conditions])]).replace(\"*\",\"x\")\n",
    "        str_cond=\",\".join([a+\"=\"+b for a,b in conditions])+\"-\"+\",\".join(exp_spec)\n",
    "        readable_cond=str_cond.split(\"-\")[0].replace(\"kErr=0.00001*100\",\"LOoL\").replace(\"kErr=0\",\"rdm\").replace(\"hW=\",\"\")+\",\"+(\"noTEE\" if str_cond.split(\"-\")[1].split(\",\")[0]==\"noTEE\" else \"TEE\")\n",
    "        full_dfs=pd.read_csv(f\"{OUTPUT_DIR}/{str_desc}.csv\", usecols=cols, index_col=idx_cols, low_memory=True)\n",
    "        full_dfs[\"DIFF\"]=full_dfs[END]-full_dfs[BEGIN]\n",
    "\n",
    "        grps=full_dfs.groupby(level=\"REPETITION\")\n",
    "        for grp in grps.groups.keys():\n",
    "            bins=np.arange(0,grps.get_group(grp)[\"DIFF\"].max()+xstep,xstep)\n",
    "            n,_=np.histogram(grps.get_group(grp)[\"DIFF\"], bins=bins)\n",
    "            n=np.cumsum(n)\n",
    "            #ymax=max(ymax,n.max())\n",
    "            #xmax=max(xmax,bins.max())\n",
    "            bin_dict={bins[i]:n[i] for i in range(len(bins)-1)}\n",
    "            distribs = pd.concat([distribs,pd.DataFrame(bin_dict,index=[grps.get_group(grp)])])\n",
    "            print(f\"Finished {readable_cond} repetition {grp}\")\n",
    "        quantiles=distribs.quantile([0.1,0.25,0.5,0.75,0.9])\n",
    "        print(quantiles)\n",
    "        print(f\"Finished {readable_cond}\")\n",
    "        th_str=\"$^{th}$\"\n",
    "        p=plt.plot(quantiles.loc[0.1],label=f\"{'COoL' if readable_cond.split(',')[1]=='LOoL' else 'random'}: 10{th_str} pctl\", linewidth=1, linestyle=\"dotted\", color=colours[colour_idx])\n",
    "        plt.plot(quantiles.loc[0.25],label=f\"{'COoL' if readable_cond.split(',')[1]=='LOoL' else 'random'}: 25{th_str} pctl\", linewidth=1, color=colours[colour_idx], linestyle=\"dashed\")\n",
    "        plt.plot(quantiles.loc[0.5],label=f\"{'COoL' if readable_cond.split(',')[1]=='LOoL' else 'random'}: median\", linewidth=1, color=colours[colour_idx])\n",
    "        plt.plot(quantiles.loc[0.75],label=f\"{'COoL' if readable_cond.split(',')[1]=='LOoL' else 'random'}: 75{th_str} pctl\", linewidth=1, color=colours[colour_idx], linestyle=\"dashed\")\n",
    "        plt.plot(quantiles.loc[0.9],label=f\"{'COoL' if readable_cond.split(',')[1]=='LOoL' else 'random'}: 90{th_str} pctl\", linewidth=1, color=colours[colour_idx], linestyle=\"dotted\")\n",
    "        #plt.fill_between(quantiles.columns, quantiles.loc[0.1], quantiles.loc[0.9], alpha=0.2, color=p[0].get_color())\n",
    "        #plt.fill_between(quantiles.columns, quantiles.loc[0.25], quantiles.loc[0.75], alpha=0.4, color=p[0].get_color())\n",
    "        xmax=max(xmax,quantiles.columns.max())\n",
    "        ymax=max(ymax,quantiles.max().max())\n",
    "        colour_idx+=1\n",
    "plt.xlim(0,0.1)\n",
    "ypow=math.ceil(math.log(ymax,10))-1\n",
    "xpow=math.ceil(math.log(xmax,10))-2\n",
    "ylabels=[f\"{int(y/1000)}k\" for y in np.arange(0,ymax+2*10**(ypow-1),10**ypow)]\n",
    "plt.yticks(np.arange(0,ymax+2*10**(ypow-1),10**ypow), labels=ylabels)\n",
    "plt.yticks(np.arange(0,ymax+2*10**(ypow-1),(10**ypow)/5),minor=True)\n",
    "plt.xticks(np.arange(0,xmax+10**xpow,10**xpow), labels=[f\"{x:.1f}\" if (int(10*x))%2==0 else \"\" for x in np.arange(0,xmax+10**xpow,10**xpow)])\n",
    "plt.xticks(np.arange(0,xmax+10**xpow,10**xpow/5),minor=True)\n",
    "plt.grid(axis=\"y\")\n",
    "plt.grid(axis=\"x\")\n",
    "plt.grid(which=\"minor\", axis=\"y\", alpha=0.5)\n",
    "plt.grid(which=\"minor\", axis=\"x\", alpha=0.5)\n",
    "plt.xlabel(\"Roundtrip response time $\\Delta$ (s)\")\n",
    "plt.ylabel(\"Number of requests\")\n",
    "#plt.title(f\"Response time distribution\")\n",
    "plt.legend(reverse=True, loc=\"lower right\", handletextpad=0.25, labelspacing=0.1)\n",
    "filename=f\"{FIGS_DIR}/{EXP_DIR}-{str_specs}-lat-dist-cumul-quantiles-{BEGIN}-{END}-{str_vals}.pdf\"\n",
    "plt.savefig(filename, transparent=True, dpi=1000, bbox_inches='tight')\n",
    "print(f\"Saved {filename}\")\n",
    "plt.show()"
   ]
  }
 ],
 "metadata": {
  "kernelspec": {
   "display_name": "Python 3",
   "language": "python",
   "name": "python3"
  },
  "language_info": {
   "codemirror_mode": {
    "name": "ipython",
    "version": 3
   },
   "file_extension": ".py",
   "mimetype": "text/x-python",
   "name": "python",
   "nbconvert_exporter": "python",
   "pygments_lexer": "ipython3",
   "version": "3.11.9"
  }
 },
 "nbformat": 4,
 "nbformat_minor": 2
}
